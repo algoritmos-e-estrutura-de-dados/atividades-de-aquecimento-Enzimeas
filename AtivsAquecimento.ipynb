{
  "nbformat": 4,
  "nbformat_minor": 0,
  "metadata": {
    "colab": {
      "name": "AtivsAquecimento",
      "provenance": []
    },
    "kernelspec": {
      "name": "python3",
      "display_name": "Python 3"
    },
    "language_info": {
      "name": "python"
    }
  },
  "cells": [
    {
      "cell_type": "markdown",
      "source": [],
      "metadata": {
        "id": "hc-19t4mwnRZ"
      }
    },
    {
      "cell_type": "markdown",
      "source": [
        "# Atividades de aquecimento\n",
        "\n",
        "**Extremely basic:**\n",
        "\n"
      ],
      "metadata": {
        "id": "DFtwTB56qwwS"
      }
    },
    {
      "cell_type": "code",
      "source": [
        "\n",
        "print(\"Insira dois numeros: \")\n",
        "a = float(input())\n",
        "b = float(input())\n",
        "x = a+b\n",
        "print(\"A soma deles é: \", x)\n"
      ],
      "metadata": {
        "colab": {
          "base_uri": "https://localhost:8080/"
        },
        "id": "dVVR934yrINR",
        "outputId": "b48619a8-df4c-4e42-fa5d-6bbc3cd03487"
      },
      "execution_count": null,
      "outputs": [
        {
          "output_type": "stream",
          "name": "stdout",
          "text": [
            "Insira dois numeros: \n",
            "12.3\n",
            "32\n",
            "A soma deles é:  44.3\n"
          ]
        }
      ]
    },
    {
      "cell_type": "markdown",
      "source": [
        "**Area of a Circle:**\n"
      ],
      "metadata": {
        "id": "FZBxT2AAwo9x"
      }
    },
    {
      "cell_type": "code",
      "source": [
        "pi = 3.14159\n",
        "\n",
        "print(\"AREA DE UM CIRCULO\")\n",
        "\n",
        "raio = float(input(\"Insira o raio do circulo: \"))\n",
        "A = (raio**2.0)*pi\n",
        "\n",
        "print(\"A área de um circulo com raio \",raio,\" é igual a:\", A)"
      ],
      "metadata": {
        "colab": {
          "base_uri": "https://localhost:8080/"
        },
        "id": "gzCQoVzywxKr",
        "outputId": "2095e8e6-1fab-4105-a66e-06cb8ebcd363"
      },
      "execution_count": null,
      "outputs": [
        {
          "output_type": "stream",
          "name": "stdout",
          "text": [
            "AREA DE UM CIRCULO\n",
            "Insira o raio do circulo: 12\n",
            "A área de um circulo com raio  12.0  é igual a: 452.38896\n"
          ]
        }
      ]
    },
    {
      "cell_type": "markdown",
      "source": [
        "**Simple sum:**"
      ],
      "metadata": {
        "id": "QRWkbFPr8VDz"
      }
    },
    {
      "cell_type": "code",
      "source": [
        "a = float(input(\"Insira o seu primeiro numero:\"))\n",
        "b = float(input(\"Insira o seu segundo numero:\"))\n",
        "\n",
        "SOMA = a+b\n",
        "\n",
        "print(\"SOMA :\" , SOMA)"
      ],
      "metadata": {
        "colab": {
          "base_uri": "https://localhost:8080/"
        },
        "id": "aUCbdwtQ8YwC",
        "outputId": "09055252-87c8-4315-b9a4-eb1ba49e4466"
      },
      "execution_count": null,
      "outputs": [
        {
          "output_type": "stream",
          "name": "stdout",
          "text": [
            "Insira o seu primeiro numero:12\n",
            "Insira o seu segundo numero:2\n",
            "SOMA : 14.0\n"
          ]
        }
      ]
    },
    {
      "cell_type": "markdown",
      "source": [
        "**Simple product:**"
      ],
      "metadata": {
        "id": "D2yuzqrrBW__"
      }
    },
    {
      "cell_type": "code",
      "source": [
        "a = float(input(\"Insira o seu primeiro numero:\"))\n",
        "b = float(input(\"Insira o seu segundo numero:\"))\n",
        "\n",
        "PRODUTO = a*b\n",
        "\n",
        "print(\"PRODUTO :\",PRODUTO)"
      ],
      "metadata": {
        "colab": {
          "base_uri": "https://localhost:8080/"
        },
        "id": "VuBjMF31BXPH",
        "outputId": "02ebb980-09d5-4d57-95e8-286e464119d9"
      },
      "execution_count": null,
      "outputs": [
        {
          "output_type": "stream",
          "name": "stdout",
          "text": [
            "Insira o seu segundo numero:2\n",
            "PRODUTO : 4.0\n"
          ]
        }
      ]
    },
    {
      "cell_type": "markdown",
      "source": [
        "**Average 1:**"
      ],
      "metadata": {
        "id": "vnq2qkLxB27_"
      }
    },
    {
      "cell_type": "code",
      "source": [
        "nota1 = float(input(\"Insira a primeira nota do aluno: \"))\n",
        "nota2 = float(input(\"Insira a segunda nota do aluno: \"))\n",
        "\n",
        "nota_final = ((nota1*3.5)+(nota2*7.5))/(3.5+7.5)\n",
        "\n",
        "print(\"A media ponderada do aluno com respectivos pesos 3.5 e 7.5 é: \",nota_final)"
      ],
      "metadata": {
        "id": "rb2frq1VB3Fi",
        "colab": {
          "base_uri": "https://localhost:8080/"
        },
        "outputId": "76aec1e6-7021-46c5-dfd7-f32102d56477"
      },
      "execution_count": null,
      "outputs": [
        {
          "output_type": "stream",
          "name": "stdout",
          "text": [
            "Insira a primeira nota do aluno: 5.0\n",
            "Insira a segunda nota do aluno: 7.1\n",
            "A media ponderada do aluno com respectivos pesos 3.5 e 7.5 é:  6.431818181818182\n"
          ]
        }
      ]
    },
    {
      "cell_type": "markdown",
      "source": [
        "**Average 2:**"
      ],
      "metadata": {
        "id": "-9UiusjsFIQe"
      }
    },
    {
      "cell_type": "code",
      "source": [
        "nota1 = float(input(\"Insira a primeira nota do aluno: \"))\n",
        "nota2 = float(input(\"Insira a segunda nota do aluno: \"))\n",
        "nota3 = float(input(\"Insira a terceira nota do aluno: \"))\n",
        "\n",
        "nota_final = ((nota1*2)+(nota2*3)+(nota3*5))/(2+3+5)\n",
        "\n",
        "print(\"A media ponderada do aluno com respectivos pesos 2 , 3 e 5 é: \",nota_final)"
      ],
      "metadata": {
        "id": "l64NDjaOFLfX"
      },
      "execution_count": null,
      "outputs": []
    },
    {
      "cell_type": "markdown",
      "source": [
        "**Difference:**"
      ],
      "metadata": {
        "id": "Gnhx7w1BGAFl"
      }
    },
    {
      "cell_type": "code",
      "source": [
        "a = float(input(\"Insira o primeiro numero:\"))\n",
        "b = float(input(\"Insira o segundo numero:\"))\n",
        "c = float(input(\"Insira o terceiro numero:\"))\n",
        "d = float(input(\"Insira o quarto numero:\"))\n",
        "\n",
        "print(\"DIFERENCA : \",(a*b)-(c*d))"
      ],
      "metadata": {
        "id": "AP8yHE66GAUv",
        "outputId": "e4bdce24-b6f5-4dbf-d1f0-b8476489d3c8",
        "colab": {
          "base_uri": "https://localhost:8080/"
        }
      },
      "execution_count": null,
      "outputs": [
        {
          "output_type": "stream",
          "name": "stdout",
          "text": [
            "Insira o quarto numero:6\n",
            "DIFERENCA :  -28.0\n"
          ]
        }
      ]
    },
    {
      "cell_type": "markdown",
      "source": [
        "**Salary:**"
      ],
      "metadata": {
        "id": "8pkmVoARG5ct"
      }
    },
    {
      "cell_type": "code",
      "source": [
        "numero = int(input(\"Insira o numero do funcionario: \"))\n",
        "horas = float(input(\"Insira a quantidade de horas trabalhadas no mês:\"))\n",
        "pag_hora = float(input(\"Insira o pagamento dele/dela por hora: \"))\n",
        "\n",
        "print(\"NUMERO: \",numero,\"\\nSALARIO:\",horas*pag_hora)"
      ],
      "metadata": {
        "id": "dqTRcdfKG522",
        "colab": {
          "base_uri": "https://localhost:8080/"
        },
        "outputId": "b2874af2-db67-4207-f28c-a49a8d1b359b"
      },
      "execution_count": null,
      "outputs": [
        {
          "output_type": "stream",
          "name": "stdout",
          "text": [
            "Insira o numero do funcionario: 123213213\n",
            "Insira a quantidade de horas trabalhadas no mês:5\n",
            "Insira o pagamento dele/dela por hora: 25\n",
            "NUMERO:  123213213 \n",
            "SALARIO: 125.0\n"
          ]
        }
      ]
    },
    {
      "cell_type": "markdown",
      "source": [
        "**Salary with bonus:**"
      ],
      "metadata": {
        "id": "JUvOfRpHG6Jf"
      }
    },
    {
      "cell_type": "code",
      "source": [
        "nome = input(\"Insira o nome do funcionario: \")\n",
        "salario_fixo = float(input(\"Insira o salario fixo do funcionario:\"))\n",
        "vendas = float(input(\"Insira o valor das vendas feitas pelo funcionario: \"))\n",
        "\n",
        "valor_final = salario_fixo + ((vendas*15)/100)\n",
        "\n",
        "print(\"O salario final do funcionario \",nome,\" com um bonus de 15% com as vendas feitas pelo mesmo, e de: \",valor_final)"
      ],
      "metadata": {
        "id": "Az4Iv-r_G6qc",
        "outputId": "115eaf79-da1b-462c-a404-60effa7536ca",
        "colab": {
          "base_uri": "https://localhost:8080/"
        }
      },
      "execution_count": null,
      "outputs": [
        {
          "output_type": "stream",
          "name": "stdout",
          "text": [
            "Insira o nome do funcionario: enzo\n",
            "Insira o salario fixo do funcionario:1000\n",
            "Insira o valor das vendas feitas pelo funcionario: 100\n",
            "O salario final do funcionario  enzo  com um bonus de 15% com as vendas feitas pelo mesmo, e de:  1015.0\n"
          ]
        }
      ]
    },
    {
      "cell_type": "markdown",
      "source": [
        "**Simple calculate:**"
      ],
      "metadata": {
        "id": "hxQ5i7ZMG68A"
      }
    },
    {
      "cell_type": "code",
      "source": [
        "produto1 = [int(input(\"Insira o codigo do produto: \")),\n",
        "            int(input(\"Insira a quantidade: \")),\n",
        "            float(input(\"Insira o preco por unidade do produto: \"))]\n",
        "\n",
        "produto2 = [int(input(\"Insira o codigo do produto: \")),\n",
        "            int(input(\"Insira a quantidade: \")),\n",
        "            float(input(\"Insira o preco por unidade do produto: \"))]\n",
        "\n",
        "print(\"Valor a pagar: \",(produto1[1]*produto1[2])+(produto2[1]*produto2[2]))"
      ],
      "metadata": {
        "id": "v7LgLINqG7X7",
        "outputId": "613d82da-badd-457d-a79e-7dce7fa9f707",
        "colab": {
          "base_uri": "https://localhost:8080/"
        }
      },
      "execution_count": null,
      "outputs": [
        {
          "output_type": "stream",
          "name": "stdout",
          "text": [
            "Insira o codigo do produto: 123213\n",
            "Insira a quantidade: 2\n",
            "Insira o preco por unidade do produto: 10\n",
            "Insira o codigo do produto: 12321321312312\n",
            "Insira a quantidade: 3\n",
            "Insira o preco por unidade do produto: 10\n",
            "Valor a pagar:  50.0\n"
          ]
        }
      ]
    },
    {
      "cell_type": "markdown",
      "source": [
        "**Sphere:**"
      ],
      "metadata": {
        "id": "tCVpjxX5HK4Z"
      }
    },
    {
      "cell_type": "code",
      "source": [
        "pi = 3.1415926535897932384626433\n",
        "raio = float(input(\"Insira o raio do esfera: \"))\n",
        "volume = (4/3)*pi*(raio**3)\n",
        "\n",
        "print(\"O volume da esfera e:\",volume)"
      ],
      "metadata": {
        "id": "SjKCDY7CHLSh",
        "outputId": "34523640-a712-4c8d-9efe-680c650e5e99",
        "colab": {
          "base_uri": "https://localhost:8080/"
        }
      },
      "execution_count": null,
      "outputs": [
        {
          "output_type": "stream",
          "name": "stdout",
          "text": [
            "Insira o raio do esfera: 3\n",
            "O volume da esfera e: 113.09733552923254\n"
          ]
        }
      ]
    },
    {
      "cell_type": "markdown",
      "source": [
        "**Area:**"
      ],
      "metadata": {
        "id": "woPYHCN2HLja"
      }
    },
    {
      "cell_type": "code",
      "source": [
        "pi = 3.14159\n",
        "a = float(input(\"Insira um valor flutuante: \"))\n",
        "b = float(input(\"Insira um valor flutuante: \"))\n",
        "c = float(input(\"Insira um valor flutuante: \"))\n",
        "\n",
        "print(\"TRIANGULO: \",a*b/2)\n",
        "print(\"CIRCULO: \",pi*c**2)\n",
        "print(\"TRAPEZIO: \",(a+b)*c/2)\n",
        "print(\"QUADRADO: \",b**2)\n",
        "print(\"RETANGULO: \",a*b)"
      ],
      "metadata": {
        "id": "YxetKpyZHL3A",
        "outputId": "7e5a678c-5493-46de-fad6-8f20180d9107",
        "colab": {
          "base_uri": "https://localhost:8080/"
        }
      },
      "execution_count": null,
      "outputs": [
        {
          "output_type": "stream",
          "name": "stdout",
          "text": [
            "Insira um valor flutuante: 3\n",
            "Insira um valor flutuante: 4\n",
            "Insira um valor flutuante: 5.2\n",
            "TRIANGULO:  6.0\n",
            "CIRCULO:  84.94859360000001\n",
            "TRAPEZIO:  18.2\n",
            "QUADRADO:  16.0\n",
            "RETANGULO:  12.0\n"
          ]
        }
      ]
    },
    {
      "cell_type": "markdown",
      "source": [
        "**The greatest:**"
      ],
      "metadata": {
        "id": "xznqlmJsHUIf"
      }
    },
    {
      "cell_type": "code",
      "source": [
        "a = int(input(\"Insira um valor inteiro: \"))\n",
        "b = int(input(\"Insira um valor inteiro: \"))\n",
        "c = int(input(\"Insira um valor inteiro: \"))\n",
        "\n",
        "x = (a+b+abs(a-b))/2\n",
        "maior_numero = (x+c+abs(x-c))/2\n",
        "\n",
        "print(maior_numero, \"e o maior\")"
      ],
      "metadata": {
        "id": "CrEc-1TIHUa-",
        "outputId": "4ea57770-ccbf-4196-e01a-499f49004ce2",
        "colab": {
          "base_uri": "https://localhost:8080/"
        }
      },
      "execution_count": null,
      "outputs": [
        {
          "output_type": "stream",
          "name": "stdout",
          "text": [
            "Insira um valor inteiro: 100\n",
            "Insira um valor inteiro: 300\n",
            "Insira um valor inteiro: 54\n",
            "300.0 e o maior\n"
          ]
        }
      ]
    },
    {
      "cell_type": "markdown",
      "source": [
        "**Consumption:**"
      ],
      "metadata": {
        "id": "6wRujHlpHUtA"
      }
    },
    {
      "cell_type": "code",
      "source": [
        "distancia = float(input(\"Insira a distancia percorrida em KM: \"))\n",
        "combustivel_gasto = float(input(\"Insira a quantidade em litros de combustivel gasto: \"))\n",
        "\n",
        "print(distancia*combustivel_gasto,\"KM/L\")"
      ],
      "metadata": {
        "id": "SoF1LlLdHVJs",
        "outputId": "36ca3c26-69a0-43fc-dca5-f7a4ec0676f2",
        "colab": {
          "base_uri": "https://localhost:8080/"
        }
      },
      "execution_count": null,
      "outputs": [
        {
          "output_type": "stream",
          "name": "stdout",
          "text": [
            "Insira a distancia percorrida em KM: 500\n",
            "Insira a quantidade em litros de combustivel gasto: 35\n",
            "17500.0 KM/L\n"
          ]
        }
      ]
    },
    {
      "cell_type": "markdown",
      "source": [
        "**Distance Between Two Points:**"
      ],
      "metadata": {
        "id": "p7obDhdRHdAm"
      }
    },
    {
      "cell_type": "code",
      "source": [
        "import math as m\n",
        "\n",
        "ponto1 = {\n",
        "    'dx' : float(input(\"Insira a distancia x do ponto 1: \")),\n",
        "    'dy' : float(input(\"Insira a distancia y do ponto 1: \"))\n",
        "    }\n",
        "\n",
        "ponto2 = {\n",
        "    'dx' : float(input(\"Insira a distancia x do ponto 2: \")),\n",
        "    'dy' : float(input(\"Insira a distancia y do ponto 2: \"))\n",
        "    }\n",
        "\n",
        "distancia = m.sqrt(((ponto2['dx']-ponto1['dx']))**2 + ((ponto1['dy']-ponto2['dy']))**2)\n",
        "\n",
        "print(\"A distancia entre os dois pontos e:\",distancia)\n"
      ],
      "metadata": {
        "id": "3zduCU5ZHdav",
        "outputId": "677f6747-b222-4690-a812-b408f29d5952",
        "colab": {
          "base_uri": "https://localhost:8080/"
        }
      },
      "execution_count": null,
      "outputs": [
        {
          "output_type": "stream",
          "name": "stdout",
          "text": [
            "Insira a distancia x do ponto 1: 1\n",
            "Insira a distancia y do ponto 1: 7\n",
            "Insira a distancia x do ponto 2: 5\n",
            "Insira a distancia y do ponto 2: 9\n",
            "A distancia entre os dois pontos e: 4.47213595499958\n"
          ]
        }
      ]
    }
  ]
}