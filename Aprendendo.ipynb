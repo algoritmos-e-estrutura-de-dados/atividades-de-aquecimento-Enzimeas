{
  "nbformat": 4,
  "nbformat_minor": 0,
  "metadata": {
    "colab": {
      "name": "Aprendendo",
      "provenance": [],
      "toc_visible": true
    },
    "kernelspec": {
      "name": "python3",
      "display_name": "Python 3"
    },
    "language_info": {
      "name": "python"
    }
  },
  "cells": [
    {
      "cell_type": "markdown",
      "source": [
        ""
      ],
      "metadata": {
        "id": "hc-19t4mwnRZ"
      }
    },
    {
      "cell_type": "markdown",
      "source": [
        "# Atividades de aquecimento\n",
        "\n",
        "**Extremely basic:**\n",
        "\n"
      ],
      "metadata": {
        "id": "DFtwTB56qwwS"
      }
    },
    {
      "cell_type": "code",
      "source": [
        "\n",
        "print(\"Insira dois numeros: \")\n",
        "a = float(input())\n",
        "b = float(input())\n",
        "x = a+b\n",
        "print(\"A soma deles é: \", x)\n"
      ],
      "metadata": {
        "colab": {
          "base_uri": "https://localhost:8080/"
        },
        "id": "dVVR934yrINR",
        "outputId": "b48619a8-df4c-4e42-fa5d-6bbc3cd03487"
      },
      "execution_count": null,
      "outputs": [
        {
          "output_type": "stream",
          "name": "stdout",
          "text": [
            "Insira dois numeros: \n",
            "12.3\n",
            "32\n",
            "A soma deles é:  44.3\n"
          ]
        }
      ]
    },
    {
      "cell_type": "markdown",
      "source": [
        "**Area of a Circle:**\n"
      ],
      "metadata": {
        "id": "FZBxT2AAwo9x"
      }
    },
    {
      "cell_type": "code",
      "source": [
        "pi = 3.14159\n",
        "\n",
        "print(\"AREA DE UM CIRCULO\")\n",
        "\n",
        "raio = float(input(\"Insira o raio do circulo: \"))\n",
        "A = (raio**2.0)*pi\n",
        "\n",
        "print(\"A área de um circulo com raio \",raio,\" é igual a:\", A)"
      ],
      "metadata": {
        "colab": {
          "base_uri": "https://localhost:8080/"
        },
        "id": "gzCQoVzywxKr",
        "outputId": "2095e8e6-1fab-4105-a66e-06cb8ebcd363"
      },
      "execution_count": null,
      "outputs": [
        {
          "output_type": "stream",
          "name": "stdout",
          "text": [
            "AREA DE UM CIRCULO\n",
            "Insira o raio do circulo: 12\n",
            "A área de um circulo com raio  12.0  é igual a: 452.38896\n"
          ]
        }
      ]
    },
    {
      "cell_type": "markdown",
      "source": [
        "**Simple sum:**"
      ],
      "metadata": {
        "id": "QRWkbFPr8VDz"
      }
    },
    {
      "cell_type": "code",
      "source": [
        "a = float(input(\"Insira o seu primeiro numero:\"))\n",
        "b = float(input(\"Insira o seu segundo numero:\"))\n",
        "\n",
        "SOMA = a+b\n",
        "\n",
        "print(\"SOMA :\" , SOMA)"
      ],
      "metadata": {
        "colab": {
          "base_uri": "https://localhost:8080/"
        },
        "id": "aUCbdwtQ8YwC",
        "outputId": "09055252-87c8-4315-b9a4-eb1ba49e4466"
      },
      "execution_count": null,
      "outputs": [
        {
          "output_type": "stream",
          "name": "stdout",
          "text": [
            "Insira o seu primeiro numero:12\n",
            "Insira o seu segundo numero:2\n",
            "SOMA : 14.0\n"
          ]
        }
      ]
    },
    {
      "cell_type": "markdown",
      "source": [
        "**Simple product:**"
      ],
      "metadata": {
        "id": "D2yuzqrrBW__"
      }
    },
    {
      "cell_type": "code",
      "source": [
        "a = float(input(\"Insira o seu primeiro numero:\"))\n",
        "b = float(input(\"Insira o seu segundo numero:\"))\n",
        "\n",
        "PRODUTO = a*b\n",
        "\n",
        "print(\"PRODUTO :\",PRODUTO)"
      ],
      "metadata": {
        "colab": {
          "base_uri": "https://localhost:8080/"
        },
        "id": "VuBjMF31BXPH",
        "outputId": "02ebb980-09d5-4d57-95e8-286e464119d9"
      },
      "execution_count": null,
      "outputs": [
        {
          "output_type": "stream",
          "name": "stdout",
          "text": [
            "Insira o seu segundo numero:2\n",
            "PRODUTO : 4.0\n"
          ]
        }
      ]
    },
    {
      "cell_type": "markdown",
      "source": [
        "**Average 1:**"
      ],
      "metadata": {
        "id": "vnq2qkLxB27_"
      }
    },
    {
      "cell_type": "code",
      "source": [
        "nota1 = float(input(\"Insira a primeira nota do aluno: \"))\n",
        "nota2 = float(input(\"Insira a segunda nota do aluno: \"))\n",
        "\n",
        "nota_final = ((nota1*3.5)+(nota2*7.5))/(3.5+7.5)\n",
        "\n",
        "print(\"A media ponderada do aluno com respectivos pesos 3.5 e 7.5 é: \",nota_final)"
      ],
      "metadata": {
        "id": "rb2frq1VB3Fi",
        "colab": {
          "base_uri": "https://localhost:8080/"
        },
        "outputId": "76aec1e6-7021-46c5-dfd7-f32102d56477"
      },
      "execution_count": null,
      "outputs": [
        {
          "output_type": "stream",
          "name": "stdout",
          "text": [
            "Insira a primeira nota do aluno: 5.0\n",
            "Insira a segunda nota do aluno: 7.1\n",
            "A media ponderada do aluno com respectivos pesos 3.5 e 7.5 é:  6.431818181818182\n"
          ]
        }
      ]
    },
    {
      "cell_type": "markdown",
      "source": [
        "**Average 2:**"
      ],
      "metadata": {
        "id": "-9UiusjsFIQe"
      }
    },
    {
      "cell_type": "code",
      "source": [
        "nota1 = float(input(\"Insira a primeira nota do aluno: \"))\n",
        "nota2 = float(input(\"Insira a segunda nota do aluno: \"))\n",
        "nota3 = float(input(\"Insira a terceira nota do aluno: \"))\n",
        "\n",
        "nota_final = ((nota1*2)+(nota2*3)+(nota3*5))/(2+3+5)\n",
        "\n",
        "print(\"A media ponderada do aluno com respectivos pesos 2 , 3 e 5 é: \",nota_final)"
      ],
      "metadata": {
        "id": "l64NDjaOFLfX"
      },
      "execution_count": null,
      "outputs": []
    },
    {
      "cell_type": "markdown",
      "source": [
        "**Difference:**"
      ],
      "metadata": {
        "id": "Gnhx7w1BGAFl"
      }
    },
    {
      "cell_type": "code",
      "source": [
        "a = float(input(\"Insira o primeiro numero:\"))\n",
        "b = float(input(\"Insira o segundo numero:\"))\n",
        "c = float(input(\"Insira o terceiro numero:\"))\n",
        "d = float(input(\"Insira o quarto numero:\"))\n",
        "\n",
        "print(\"DIFERENCA : \",(a*b)-(c*d))"
      ],
      "metadata": {
        "id": "AP8yHE66GAUv",
        "outputId": "e4bdce24-b6f5-4dbf-d1f0-b8476489d3c8",
        "colab": {
          "base_uri": "https://localhost:8080/"
        }
      },
      "execution_count": null,
      "outputs": [
        {
          "output_type": "stream",
          "name": "stdout",
          "text": [
            "Insira o quarto numero:6\n",
            "DIFERENCA :  -28.0\n"
          ]
        }
      ]
    },
    {
      "cell_type": "markdown",
      "source": [
        "**Salary:**"
      ],
      "metadata": {
        "id": "8pkmVoARG5ct"
      }
    },
    {
      "cell_type": "code",
      "source": [
        "numero = int(input(\"Insira o numero do funcionario: \"))\n",
        "horas = float(input(\"Insira a quantidade de horas trabalhadas no mês:\"))\n",
        "pag_hora = float(input(\"Insira o pagamento dele/dela por hora: \"))\n",
        "\n",
        "print(\"NUMERO: \",numero,\"\\nSALARIO:\",horas*pag_hora)"
      ],
      "metadata": {
        "id": "dqTRcdfKG522",
        "colab": {
          "base_uri": "https://localhost:8080/"
        },
        "outputId": "b2874af2-db67-4207-f28c-a49a8d1b359b"
      },
      "execution_count": 26,
      "outputs": [
        {
          "output_type": "stream",
          "name": "stdout",
          "text": [
            "Insira o numero do funcionario: 123213213\n",
            "Insira a quantidade de horas trabalhadas no mês:5\n",
            "Insira o pagamento dele/dela por hora: 25\n",
            "NUMERO:  123213213 \n",
            "SALARIO: 125.0\n"
          ]
        }
      ]
    },
    {
      "cell_type": "markdown",
      "source": [
        "**Salary with bonus:**"
      ],
      "metadata": {
        "id": "JUvOfRpHG6Jf"
      }
    },
    {
      "cell_type": "code",
      "source": [
        ""
      ],
      "metadata": {
        "id": "Az4Iv-r_G6qc"
      },
      "execution_count": null,
      "outputs": []
    },
    {
      "cell_type": "markdown",
      "source": [
        "**Simple calculate:**"
      ],
      "metadata": {
        "id": "hxQ5i7ZMG68A"
      }
    },
    {
      "cell_type": "code",
      "source": [
        ""
      ],
      "metadata": {
        "id": "v7LgLINqG7X7"
      },
      "execution_count": null,
      "outputs": []
    },
    {
      "cell_type": "markdown",
      "source": [
        "**Sphere:**"
      ],
      "metadata": {
        "id": "tCVpjxX5HK4Z"
      }
    },
    {
      "cell_type": "code",
      "source": [
        ""
      ],
      "metadata": {
        "id": "SjKCDY7CHLSh"
      },
      "execution_count": null,
      "outputs": []
    },
    {
      "cell_type": "markdown",
      "source": [
        "**Area:**"
      ],
      "metadata": {
        "id": "woPYHCN2HLja"
      }
    },
    {
      "cell_type": "code",
      "source": [
        ""
      ],
      "metadata": {
        "id": "YxetKpyZHL3A"
      },
      "execution_count": null,
      "outputs": []
    },
    {
      "cell_type": "markdown",
      "source": [
        "**The greatest:**"
      ],
      "metadata": {
        "id": "xznqlmJsHUIf"
      }
    },
    {
      "cell_type": "code",
      "source": [
        ""
      ],
      "metadata": {
        "id": "CrEc-1TIHUa-"
      },
      "execution_count": null,
      "outputs": []
    },
    {
      "cell_type": "markdown",
      "source": [
        "**Consumption:**"
      ],
      "metadata": {
        "id": "6wRujHlpHUtA"
      }
    },
    {
      "cell_type": "code",
      "source": [
        ""
      ],
      "metadata": {
        "id": "SoF1LlLdHVJs"
      },
      "execution_count": null,
      "outputs": []
    },
    {
      "cell_type": "markdown",
      "source": [
        "**Distance Between Two Points:**"
      ],
      "metadata": {
        "id": "p7obDhdRHdAm"
      }
    },
    {
      "cell_type": "code",
      "source": [
        ""
      ],
      "metadata": {
        "id": "3zduCU5ZHdav"
      },
      "execution_count": null,
      "outputs": []
    }
  ]
}